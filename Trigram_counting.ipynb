{
  "nbformat": 4,
  "nbformat_minor": 0,
  "metadata": {
    "colab": {
      "provenance": []
    },
    "kernelspec": {
      "name": "python3",
      "display_name": "Python 3"
    },
    "language_info": {
      "name": "python"
    }
  },
  "cells": [
    {
      "cell_type": "code",
      "execution_count": 1,
      "metadata": {
        "id": "8uMXlU_2zK9P"
      },
      "outputs": [],
      "source": [
        "#In this code segments we will dive into creating Trigram model using countin. Have a dataset names, this contains list of names"
      ]
    },
    {
      "cell_type": "code",
      "source": [
        "import torch"
      ],
      "metadata": {
        "id": "d4Qd6b200M7H"
      },
      "execution_count": 3,
      "outputs": []
    },
    {
      "cell_type": "code",
      "source": [
        "words = open('names.txt','r').read().splitlines()"
      ],
      "metadata": {
        "id": "a2olxKr-0AI3"
      },
      "execution_count": 4,
      "outputs": []
    },
    {
      "cell_type": "code",
      "source": [
        "all_words = sorted(list(set(''.join(words))))\n",
        "stoi = {value:key+1 for key,value in enumerate(all_words)}\n",
        "stoi['.']=0\n",
        "itos = {value:key for key,value in stoi.items()}"
      ],
      "metadata": {
        "id": "FeJKtbdQ0zj7"
      },
      "execution_count": 9,
      "outputs": []
    },
    {
      "cell_type": "code",
      "source": [
        "N = torch.ones(27,27,27)"
      ],
      "metadata": {
        "id": "BOIzlDiR1ssb"
      },
      "execution_count": 18,
      "outputs": []
    },
    {
      "cell_type": "code",
      "source": [
        "for word in words:\n",
        "  word = '.'+word+'.'\n",
        "  for ch1,ch2,ch3 in zip(word,word[1:],word[2:]):\n",
        "    ix1 = stoi[ch1]\n",
        "    ix2 = stoi[ch2]\n",
        "    ix3 = stoi[ch3]\n",
        "    N[ix1][ix2][ix3] += 1"
      ],
      "metadata": {
        "id": "tHJXqMBR0SZG"
      },
      "execution_count": 19,
      "outputs": []
    },
    {
      "cell_type": "code",
      "source": [
        "P = N/N.sum(2,keepdim=True)"
      ],
      "metadata": {
        "id": "9ZeU9V3m0urr"
      },
      "execution_count": 21,
      "outputs": []
    },
    {
      "cell_type": "code",
      "source": [
        "loss_like=0.0\n",
        "n = 0\n",
        "for word in words:\n",
        "  word = '.'+word+'.'\n",
        "  for ch1,ch2,ch3 in zip(word,word[1:],word[2:]):\n",
        "    ix1,ix2,ix3=stoi[ch1],stoi[ch2],stoi[ch3]\n",
        "    log_prob = torch.log(N[ix1][ix2][ix3])\n",
        "    loss_like += log_prob\n",
        "    n+=1"
      ],
      "metadata": {
        "id": "aj4H84792DVq"
      },
      "execution_count": 25,
      "outputs": []
    },
    {
      "cell_type": "code",
      "source": [
        "loss_like/n"
      ],
      "metadata": {
        "colab": {
          "base_uri": "https://localhost:8080/"
        },
        "id": "FzXXZyQt2k8p",
        "outputId": "3b22b4c9-baab-4f3a-f425-18a295852eb6"
      },
      "execution_count": 26,
      "outputs": [
        {
          "output_type": "execute_result",
          "data": {
            "text/plain": [
              "tensor(4.8795)"
            ]
          },
          "metadata": {},
          "execution_count": 26
        }
      ]
    },
    {
      "cell_type": "code",
      "source": [
        "# lets generate some output from this\n",
        "g = torch.Generator().manual_seed(2147483647)\n",
        "ginit = g.get_state()\n",
        "for i in range(10):\n",
        "  ix1,ix2 = 0,0\n",
        "  out = []\n",
        "  while True:\n",
        "    p = N[ix1][ix2]\n",
        "    ix1=ix2\n",
        "    ix2 = torch.multinomial(p, num_samples=1, replacement=True,generator=g).item()\n",
        "    out.append(itos[ix2])\n",
        "    if ix2 == 0:\n",
        "      break\n",
        "  print(''.join(out))\n",
        "g.set_state(ginit)"
      ],
      "metadata": {
        "colab": {
          "base_uri": "https://localhost:8080/"
        },
        "id": "Sh0bdVJg9x-d",
        "outputId": "1e5b7377-7619-402a-a1b3-befa95a9e6a3"
      },
      "execution_count": 28,
      "outputs": [
        {
          "output_type": "stream",
          "name": "stdout",
          "text": [
            "junide.\n",
            "ilyasid.\n",
            "prelay.\n",
            "ocin.\n",
            "fairritoper.\n",
            "sathen.\n",
            "dannaaryanileniassibduinrwin.\n",
            "lessiyanayla.\n",
            "te.\n",
            "farmumthyfortumj.\n"
          ]
        },
        {
          "output_type": "execute_result",
          "data": {
            "text/plain": [
              "<torch._C.Generator at 0x78008b091830>"
            ]
          },
          "metadata": {},
          "execution_count": 28
        }
      ]
    },
    {
      "cell_type": "code",
      "source": [],
      "metadata": {
        "id": "mGEL1f6U_WNS"
      },
      "execution_count": null,
      "outputs": []
    }
  ]
}